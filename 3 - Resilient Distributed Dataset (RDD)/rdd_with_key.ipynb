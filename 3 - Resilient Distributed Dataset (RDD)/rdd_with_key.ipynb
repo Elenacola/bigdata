{
 "cells": [
  {
   "cell_type": "markdown",
   "metadata": {},
   "source": [
    "# RDD chiave-valore\n",
    "In questo notebook vedremo come possiamo creare un Resilient Distributed Dataset (RDD) usando una rappresentazione del contenuto chiave-valore. Cominciamo inizializzando la sessione."
   ]
  },
  {
   "cell_type": "code",
   "execution_count": 1,
   "metadata": {},
   "outputs": [],
   "source": [
    "from pyspark import SparkConf, SparkContext\n",
    "\n",
    "conf = SparkConf().setMaster(\"local\").setAppName(\"basic\")\n",
    "sc = SparkContext(conf=conf)"
   ]
  },
  {
   "cell_type": "markdown",
   "metadata": {},
   "source": [
    "Creiamo un RDD di esempio, contenente degli acquisti effettuati all'interno di un app, ogni elemento sarà caratterizzato da una lista contenente:\n",
    "* **Username**: che fungerà da chiave.\n",
    "* **Item**: una nuova lista che contiene id dell'item acquistato ed il prezzo.\n",
    "\n",
    "Quando utilizziamo una rappresentazione a lista, il primo elemento viene sempre interpretato da spark come la chiave ed il secondo come il valore."
   ]
  },
  {
   "cell_type": "code",
   "execution_count": 20,
   "metadata": {},
   "outputs": [
    {
     "data": {
      "text/plain": [
       "[('guizard', ('pacchetto-crediti-1', '0.89 €')),\n",
       " ('bitleader', ('pacchetto-crediti-1', '0.89 €')),\n",
       " ('guizard', ('ads-remover', '4.99 €')),\n",
       " ('guizard', ('pacchetto-crediti-3', '1.99 €')),\n",
       " ('bitleader', ('potenziamento-1', '1.49 €')),\n",
       " ('bitleader', ('potenziamento-2', '2.99 €')),\n",
       " ('lightlord', ('ads-remover', '4.99 €')),\n",
       " ('peanut', ('pacchett-crediti-1', '0.89 €')),\n",
       " ('lightlord', ('pacchetto-crediti-3', '4.99 €'))]"
      ]
     },
     "execution_count": 20,
     "metadata": {},
     "output_type": "execute_result"
    }
   ],
   "source": [
    "purchases = [(\"guizard\", (\"pacchetto-crediti-1\", \"0.89 €\")),\n",
    "       (\"bitleader\", (\"pacchetto-crediti-1\", \"0.89 €\")),\n",
    "       (\"guizard\",  (\"ads-remover\", \"4.99 €\")),\n",
    "       (\"guizard\", (\"pacchetto-crediti-3\", \"1.99 €\")),\n",
    "       (\"bitleader\", (\"potenziamento-1\", \"1.49 €\")),\n",
    "       (\"bitleader\", (\"potenziamento-2\", \"2.99 €\")),\n",
    "       (\"lightlord\", (\"ads-remover\", \"4.99 €\")),\n",
    "       (\"peanut\", (\"pacchett-crediti-1\", \"0.89 €\")),\n",
    "       (\"lightlord\", (\"pacchetto-crediti-3\", \"4.99 €\"))]\n",
    "\n",
    "purchasesRDD = sc.parallelize(purchases)\n",
    "purchasesRDD.collect()"
   ]
  },
  {
   "cell_type": "markdown",
   "metadata": {},
   "source": [
    "## Map e Reduce con chiave\n",
    "Per eseguire una trasformazione al contenuto del RDD, ma non alle chiavi, possiamo utilizzare il metodo *.mapValues(func)*.\n",
    "<br>\n",
    "Ad esempio convertiamo in maiuscolo l'item id. "
   ]
  },
  {
   "cell_type": "code",
   "execution_count": 21,
   "metadata": {},
   "outputs": [
    {
     "data": {
      "text/plain": [
       "[('guizard', ('PACCHETTO-CREDITI-1', '0.89 €')),\n",
       " ('bitleader', ('PACCHETTO-CREDITI-1', '0.89 €')),\n",
       " ('guizard', ('ADS-REMOVER', '4.99 €')),\n",
       " ('guizard', ('PACCHETTO-CREDITI-3', '1.99 €')),\n",
       " ('bitleader', ('POTENZIAMENTO-1', '1.49 €')),\n",
       " ('bitleader', ('POTENZIAMENTO-2', '2.99 €')),\n",
       " ('lightlord', ('ADS-REMOVER', '4.99 €')),\n",
       " ('peanut', ('PACCHETT-CREDITI-1', '0.89 €')),\n",
       " ('lightlord', ('PACCHETTO-CREDITI-3', '4.99 €'))]"
      ]
     },
     "execution_count": 21,
     "metadata": {},
     "output_type": "execute_result"
    }
   ],
   "source": [
    "purchasesRDD = purchasesRDD.mapValues(lambda x: (x[0].upper(), x[1]))\n",
    "purchasesRDD.collect()"
   ]
  },
  {
   "cell_type": "markdown",
   "metadata": {},
   "source": [
    "E rimuoviamo il simbolo di EURO dal prezzo."
   ]
  },
  {
   "cell_type": "code",
   "execution_count": 22,
   "metadata": {},
   "outputs": [
    {
     "data": {
      "text/plain": [
       "[('guizard', ('PACCHETTO-CREDITI-1', 0.89)),\n",
       " ('bitleader', ('PACCHETTO-CREDITI-1', 0.89)),\n",
       " ('guizard', ('ADS-REMOVER', 4.99)),\n",
       " ('guizard', ('PACCHETTO-CREDITI-3', 1.99)),\n",
       " ('bitleader', ('POTENZIAMENTO-1', 1.49)),\n",
       " ('bitleader', ('POTENZIAMENTO-2', 2.99)),\n",
       " ('lightlord', ('ADS-REMOVER', 4.99)),\n",
       " ('peanut', ('PACCHETT-CREDITI-1', 0.89)),\n",
       " ('lightlord', ('PACCHETTO-CREDITI-3', 4.99))]"
      ]
     },
     "execution_count": 22,
     "metadata": {},
     "output_type": "execute_result"
    }
   ],
   "source": [
    "purchasesRDD = purchasesRDD.mapValues(lambda x: (x[0], float(x[1].split(\" €\")[0])))\n",
    "purchasesRDD.collect()"
   ]
  },
  {
   "cell_type": "markdown",
   "metadata": {},
   "source": [
    "**NOTA BENE** Avremmo anche potuto eseguire le due operazioni in simultanea."
   ]
  },
  {
   "cell_type": "code",
   "execution_count": 23,
   "metadata": {},
   "outputs": [],
   "source": [
    "# purchasesRDD = purchasesRDD.mapValues(lambda x: (x[0].upper(), float(x[1].split(\" €\")[0])))"
   ]
  },
  {
   "cell_type": "markdown",
   "metadata": {},
   "source": [
    "Un'altra operazione comune quando si lavora con una struttura dati in formato chiave-valore è il voler raggruppare i dati in base alla chiave, con un RDD possiamo farlo usando il metodo *.reduceByKey(func)*, usiamolo per sommare gli acquisti effettuati da ogni utente ed ottenere il valore totale. Per prima cosa creiamo una nuovo RDD che contiene soltanto il nome utente come chiave ed il costo dell'acquisto come valore."
   ]
  },
  {
   "cell_type": "code",
   "execution_count": 28,
   "metadata": {},
   "outputs": [
    {
     "data": {
      "text/plain": [
       "[('guizard', 0.89),\n",
       " ('bitleader', 0.89),\n",
       " ('guizard', 4.99),\n",
       " ('guizard', 1.99),\n",
       " ('bitleader', 1.49),\n",
       " ('bitleader', 2.99),\n",
       " ('lightlord', 4.99),\n",
       " ('peanut', 0.89),\n",
       " ('lightlord', 4.99)]"
      ]
     },
     "execution_count": 28,
     "metadata": {},
     "output_type": "execute_result"
    }
   ],
   "source": [
    "totalByUserRDD = purchasesRDD.mapValues(lambda x: x[1])\n",
    "totalByUserRDD.collect()"
   ]
  },
  {
   "cell_type": "markdown",
   "metadata": {},
   "source": [
    "Poi usiamo il metodo *reduceByKey* per sommare i valori ed ottenere la spesa totale dell'utente all'interno dell'app."
   ]
  },
  {
   "cell_type": "code",
   "execution_count": 29,
   "metadata": {},
   "outputs": [
    {
     "data": {
      "text/plain": [
       "[('guizard', 7.87), ('bitleader', 5.37), ('lightlord', 9.98), ('peanut', 0.89)]"
      ]
     },
     "execution_count": 29,
     "metadata": {},
     "output_type": "execute_result"
    }
   ],
   "source": [
    "totalByUserRDD = totalByUserRDD.reduceByKey(lambda x,y: x+y)\n",
    "totalByUserRDD.collect()"
   ]
  },
  {
   "cell_type": "markdown",
   "metadata": {},
   "source": [
    "E se volessimo sapere l'entrate totali delle app ? Dovremmo sommare la spesa di tutti gli utenti"
   ]
  },
  {
   "cell_type": "code",
   "execution_count": 48,
   "metadata": {},
   "outputs": [
    {
     "data": {
      "text/plain": [
       "24.11"
      ]
     },
     "execution_count": 48,
     "metadata": {},
     "output_type": "execute_result"
    }
   ],
   "source": [
    "total = totalByUserRDD.map(lambda x: x[1]).reduce(lambda x,y: x+y)\n",
    "total"
   ]
  },
  {
   "cell_type": "markdown",
   "metadata": {},
   "source": [
    "## Ordinamento di un RDD\n",
    "Il metodo *.sortBy(func)* ci permette di ordinare gli elementi di un RDD in base ad una delle sue proprietà o ad una funzione specificata da noi. Questo metodo non richiede di avere i dati in formato chiave valore, quindi è sempre utilizzabile. \n",
    "<br>\n",
    "Utilizziamolo per ordinare l'RDD in base all'importo speso da ogni utente."
   ]
  },
  {
   "cell_type": "code",
   "execution_count": 35,
   "metadata": {},
   "outputs": [
    {
     "data": {
      "text/plain": [
       "[('peanut', 0.89), ('bitleader', 5.37), ('guizard', 7.87), ('lightlord', 9.98)]"
      ]
     },
     "execution_count": 35,
     "metadata": {},
     "output_type": "execute_result"
    }
   ],
   "source": [
    "totalByUserSortedRDD = totalByUserRDD.sortBy(lambda x: x[1])\n",
    "totalByUserSortedRDD.collect()"
   ]
  },
  {
   "cell_type": "markdown",
   "metadata": {},
   "source": [
    "Come vedi la lista va dal minore (0.89) al maggiore (9.98), possiamo invertire l'ordine di ordinamento impostando il parametro *ascending* a False."
   ]
  },
  {
   "cell_type": "code",
   "execution_count": 34,
   "metadata": {},
   "outputs": [
    {
     "data": {
      "text/plain": [
       "[('lightlord', 9.98), ('guizard', 7.87), ('bitleader', 5.37), ('peanut', 0.89)]"
      ]
     },
     "execution_count": 34,
     "metadata": {},
     "output_type": "execute_result"
    }
   ],
   "source": [
    "totalByUserSortedRDD = totalByUserRDD.sortBy(lambda x: x[1], ascending=False)\n",
    "totalByUserSortedRDD.collect()"
   ]
  }
 ],
 "metadata": {
  "kernelspec": {
   "display_name": "Python 3",
   "language": "python",
   "name": "python3"
  },
  "language_info": {
   "codemirror_mode": {
    "name": "ipython",
    "version": 3
   },
   "file_extension": ".py",
   "mimetype": "text/x-python",
   "name": "python",
   "nbconvert_exporter": "python",
   "pygments_lexer": "ipython3",
   "version": "3.6.5"
  }
 },
 "nbformat": 4,
 "nbformat_minor": 2
}
