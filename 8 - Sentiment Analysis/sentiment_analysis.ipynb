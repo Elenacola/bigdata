{
  "nbformat": 4,
  "nbformat_minor": 0,
  "metadata": {
    "kernelspec": {
      "display_name": "Python 3",
      "language": "python",
      "name": "python3"
    },
    "language_info": {
      "codemirror_mode": {
        "name": "ipython",
        "version": 3
      },
      "file_extension": ".py",
      "mimetype": "text/x-python",
      "name": "python",
      "nbconvert_exporter": "python",
      "pygments_lexer": "ipython3",
      "version": "3.6.8"
    },
    "colab": {
      "name": "sentiment_analysis.ipynb",
      "version": "0.3.2",
      "provenance": []
    }
  },
  "cells": [
    {
      "cell_type": "markdown",
      "metadata": {
        "id": "SzxJDSJIIwuN",
        "colab_type": "text"
      },
      "source": [
        "# Sentiment Analysis sulle Recensioni di Yelp\n",
        "La Sentiment Analysis è il processo di identificazione dell'emozione espressa in un testo, positiva o negativa.<br><br>\n",
        "In questo notebook useremo Spark e la sua MLlib per costruire un modello di Sentiment Analysis usando il dataset messo a disposizione da Yelp, una famossisima applicazione che permette di recensire locali e attività commerciali."
      ]
    },
    {
      "cell_type": "markdown",
      "metadata": {
        "id": "cFJSQXSfIwuP",
        "colab_type": "text"
      },
      "source": [
        "## Procuriamoci il Dataset\n",
        "Possiamo scaricare il dataset dalla pagina ufficiale, che trovi a [questo indirizzo](https://www.yelp.com/dataset), oppure [tramite Kaggle](https://www.kaggle.com/yelp-dataset/yelp-dataset). Per non uscire dal notebook scarichiamo il dataset usando le API di Kaggle."
      ]
    },
    {
      "cell_type": "code",
      "metadata": {
        "id": "zIyEtwXRIwuQ",
        "colab_type": "code",
        "colab": {}
      },
      "source": [
        "!kaggle datasets download yelp-dataset/yelp-dataset"
      ],
      "execution_count": 0,
      "outputs": []
    },
    {
      "cell_type": "markdown",
      "metadata": {
        "id": "7-bsdnBSIwuT",
        "colab_type": "text"
      },
      "source": [
        "Il dataset si trova all'interno di un'archivio zip, estraiamolo con unzip."
      ]
    },
    {
      "cell_type": "code",
      "metadata": {
        "id": "LdcifDH2IwuU",
        "colab_type": "code",
        "colab": {}
      },
      "source": [
        "!unzip -o yelp-dataset.zip"
      ],
      "execution_count": 0,
      "outputs": []
    },
    {
      "cell_type": "markdown",
      "metadata": {
        "id": "kc6cyL7SIwuW",
        "colab_type": "text"
      },
      "source": [
        "L'archivio contiene 4 file json differenti:\n",
        "* yelp_academic_dataset_business.json\n",
        "* yelp_academic_dataset_checkin.json\n",
        "* yelp_academic_dataset_review.json\n",
        "* yelp_academic_dataset_tip.json\n",
        "* yelp_academic_dataset_user.json\n",
        "\n",
        "Ognuno contiene delle informazioni differenti, quello con le recensioni è *yelp_academic_dataset_review.json* che è pesa oltre 5 GB."
      ]
    },
    {
      "cell_type": "markdown",
      "metadata": {
        "id": "fyaIajenIwuX",
        "colab_type": "text"
      },
      "source": [
        "## Inizializziamo Spark\n",
        "Inizializziamo Spark usando i contesti. Perchè no una sessione come abbiamo fatto in precedenza ? Perché dobbiamo specificare la configurazione manualmente, nello specifico dobbiamo modificare la dimensione della memoria del driver."
      ]
    },
    {
      "cell_type": "code",
      "metadata": {
        "id": "1cWf74_jIwuX",
        "colab_type": "code",
        "colab": {}
      },
      "source": [
        "from pyspark import SparkContext, SparkConf\n",
        "from pyspark.sql import SQLContext\n",
        "\n",
        "conf = SparkConf().setAppName(\"basic\").setMaster(\"local\").set('spark.driver.memory','5g')\n",
        "sc = SparkContext(conf=conf)\n",
        "sqlContext = SQLContext(sc)"
      ],
      "execution_count": 0,
      "outputs": []
    },
    {
      "cell_type": "markdown",
      "metadata": {
        "id": "DTl6FzxlIwuZ",
        "colab_type": "text"
      },
      "source": [
        "## Importiamo il dataset in un DataFrame\n",
        "Importiamo il dataset in un DataFrame, trattandosi di un file json possiamo utilizzare la funzione .json."
      ]
    },
    {
      "cell_type": "code",
      "metadata": {
        "id": "YUENhrS6Iwua",
        "colab_type": "code",
        "colab": {}
      },
      "source": [
        "yelp_df = sqlContext.read.json('yelp_academic_dataset_review.json')\n",
        "#yelp_df.show(5)"
      ],
      "execution_count": 0,
      "outputs": []
    },
    {
      "cell_type": "markdown",
      "metadata": {
        "id": "X6tpOdcZIwuc",
        "colab_type": "text"
      },
      "source": [
        "**ATTENZIONE**: Se dovessi ottenere un'errore di tipo *permission denied*, modifica i permessi sul file json e riprova."
      ]
    },
    {
      "cell_type": "code",
      "metadata": {
        "id": "6kW2qwLyIwuc",
        "colab_type": "code",
        "colab": {}
      },
      "source": [
        "!sudo chmod 777 yelp_academic_dataset_review.json"
      ],
      "execution_count": 0,
      "outputs": []
    },
    {
      "cell_type": "markdown",
      "metadata": {
        "id": "RyQCQh_HIwuf",
        "colab_type": "text"
      },
      "source": [
        "Vediamo quali sono le colonne del DataFrame"
      ]
    },
    {
      "cell_type": "code",
      "metadata": {
        "id": "1lhHkaR8Iwuf",
        "colab_type": "code",
        "colab": {},
        "outputId": "10a684ad-cbe3-408b-e0d7-b73be3089931"
      },
      "source": [
        "yelp_df.columns"
      ],
      "execution_count": 0,
      "outputs": [
        {
          "output_type": "execute_result",
          "data": {
            "text/plain": [
              "['business_id',\n",
              " 'cool',\n",
              " 'date',\n",
              " 'funny',\n",
              " 'review_id',\n",
              " 'stars',\n",
              " 'text',\n",
              " 'useful',\n",
              " 'user_id']"
            ]
          },
          "metadata": {
            "tags": []
          },
          "execution_count": 3
        }
      ]
    },
    {
      "cell_type": "markdown",
      "metadata": {
        "id": "lM5QRd12Iwui",
        "colab_type": "text"
      },
      "source": [
        "Abbiamo ben 9 colonne, che sono:\n",
        "* user_id: identificativo del recensore\n",
        "* business_id: identificato del business recensito\n",
        "* review_id: identificativo della recensione\n",
        "* text: testo della recensione\n",
        "* date: data della recensione\n",
        "* stars: valutazione dell'attività (da 1.0 a 5.0).\n",
        "* useful: numero di utenti che hanno segnato la recensione come uile\n",
        "* cool: numero degli utenti che hanno segnato la recensione come toga (si dice ancora toga? Forse no).\n",
        "* funny: numero di utenti che hanno segnato la recensione come divertente.\n",
        "\n",
        "Le uniche informazioni che a noi interessano sono il testo e la valutazione, creiamo un nuovo DataFrame con soltanto queste colonne."
      ]
    },
    {
      "cell_type": "code",
      "metadata": {
        "id": "VznwH1RvIwuj",
        "colab_type": "code",
        "colab": {}
      },
      "source": [
        "reviews_df = yelp_df.select([\"text\", \"stars\"])\n",
        "#reviews_df.show(5)"
      ],
      "execution_count": 0,
      "outputs": []
    },
    {
      "cell_type": "markdown",
      "metadata": {
        "id": "8R4zdllSIwul",
        "colab_type": "text"
      },
      "source": [
        "Quante recensioni abbiamo a disposizione ? Non lo so, contiamole."
      ]
    },
    {
      "cell_type": "code",
      "metadata": {
        "id": "ahAVn554Iwum",
        "colab_type": "code",
        "colab": {},
        "outputId": "5374bee6-c851-48eb-8e6c-dedead7950ba"
      },
      "source": [
        "reviews_df.count()"
      ],
      "execution_count": 0,
      "outputs": [
        {
          "output_type": "execute_result",
          "data": {
            "text/plain": [
              "6685900"
            ]
          },
          "metadata": {
            "tags": []
          },
          "execution_count": 5
        }
      ]
    },
    {
      "cell_type": "markdown",
      "metadata": {
        "id": "ytoxdcOuIwuo",
        "colab_type": "text"
      },
      "source": [
        "Le recensioni sono ben 6.685.900, davvero tante ! Facciamo una cosa, cominciamo creando un modello utilizzando soltanto il 1% del dataset."
      ]
    },
    {
      "cell_type": "code",
      "metadata": {
        "id": "csU8JHG1Iwup",
        "colab_type": "code",
        "colab": {},
        "outputId": "2f8ed066-89ca-4692-cb6d-1ae7e8dce434"
      },
      "source": [
        "subreviews_df = reviews_df.sample(False, 0.01, seed=0)\n",
        "subreviews_df.count()"
      ],
      "execution_count": 0,
      "outputs": [
        {
          "output_type": "execute_result",
          "data": {
            "text/plain": [
              "67136"
            ]
          },
          "metadata": {
            "tags": []
          },
          "execution_count": 14
        }
      ]
    },
    {
      "cell_type": "markdown",
      "metadata": {
        "id": "dAcObZkIIwut",
        "colab_type": "text"
      },
      "source": [
        "## Preprocessing del testo\n",
        "Ora dobbiamo processare il testo delle recensioni per renderlo un buon input per una modello di machine learning. Iniziamo rimuovendo tutta la punteggiatura da ogni frase. Definiamo una funzione per farlo."
      ]
    },
    {
      "cell_type": "code",
      "metadata": {
        "id": "ypc3127lIwuu",
        "colab_type": "code",
        "colab": {},
        "outputId": "309c2ffd-78ca-4dce-9d1e-fd22e0d2aa52"
      },
      "source": [
        "import string\n",
        "\n",
        "def remove_punct(text):\n",
        "    return text.translate(str.maketrans('', '', string.punctuation))\n",
        "\n",
        "remove_punct(\"...che cacchio dici !!!1!\")"
      ],
      "execution_count": 0,
      "outputs": [
        {
          "output_type": "execute_result",
          "data": {
            "text/plain": [
              "'che cacchio dici 1'"
            ]
          },
          "metadata": {
            "tags": []
          },
          "execution_count": 6
        }
      ]
    },
    {
      "cell_type": "markdown",
      "metadata": {
        "id": "RAhM1OL6Iwuw",
        "colab_type": "text"
      },
      "source": [
        "Utilizziamo la funzione *udf* (User Defined Function - Funzione Definita dall'Utente) per creare una funzione spark partendo da quella che abbiamo definito noi per la rimozione della punteggiatura."
      ]
    },
    {
      "cell_type": "code",
      "metadata": {
        "id": "0Q5mBor8Iwux",
        "colab_type": "code",
        "colab": {}
      },
      "source": [
        "from pyspark.sql.functions import udf\n",
        "\n",
        "punct_remove = udf(lambda s: remove_punct(s))"
      ],
      "execution_count": 0,
      "outputs": []
    },
    {
      "cell_type": "markdown",
      "metadata": {
        "id": "RCmkswmRIwuz",
        "colab_type": "text"
      },
      "source": [
        "Fatto questo applichiamo la funzione alla colonna text, per rimuovere la punteggiatura da ogni recensione."
      ]
    },
    {
      "cell_type": "code",
      "metadata": {
        "id": "3_Pa51WYIwu0",
        "colab_type": "code",
        "colab": {}
      },
      "source": [
        "subreviews_df = subreviews_df.withColumn(\"text\", punct_remove(reviews_df[\"text\"]))\n",
        "#reviews_df.show(5)"
      ],
      "execution_count": 0,
      "outputs": []
    },
    {
      "cell_type": "markdown",
      "metadata": {
        "id": "r6zEyLy2Iwu3",
        "colab_type": "text"
      },
      "source": [
        "Fantastico ! Prossimo step, eseguire la **Tokenizzazione**, che ci serve per estrarre i **Token** dal testo, cioè le sue parti costituenti (le parole insomma). Per farlo possiamo usare la classe *Tokenizer* di MLlib."
      ]
    },
    {
      "cell_type": "code",
      "metadata": {
        "id": "3YTZS8kzIwu4",
        "colab_type": "code",
        "colab": {}
      },
      "source": [
        "from pyspark.ml.feature import Tokenizer\n",
        "\n",
        "tokenizer = Tokenizer(inputCol=\"text\", outputCol=\"words\")\n",
        "words_df = tokenizer.transform(subreviews_df)\n",
        "\n",
        "#words_df.show(5)"
      ],
      "execution_count": 0,
      "outputs": []
    },
    {
      "cell_type": "markdown",
      "metadata": {
        "id": "z-Veyez1Iwu5",
        "colab_type": "text"
      },
      "source": [
        "Ora abbiamo ogni recensione rappresentata da una lista di parole, molte di queste parole sono superflue e non portano informazioni utili ai fini della sentiment analysis. Tali parole sono dette StopWords ed è buona pratica rimuoverle, possiamo farlo utilizzando la classe *StopWordsRemover* di MLlib."
      ]
    },
    {
      "cell_type": "code",
      "metadata": {
        "id": "dglzAiaMIwu6",
        "colab_type": "code",
        "colab": {}
      },
      "source": [
        "from pyspark.ml.feature import StopWordsRemover\n",
        "\n",
        "stopwords = StopWordsRemover(inputCol=\"words\", outputCol=\"filtered\")\n",
        "words_df = stopwords.transform(words_df)\n",
        "\n",
        "#words_df.show(5)"
      ],
      "execution_count": 0,
      "outputs": []
    },
    {
      "cell_type": "markdown",
      "metadata": {
        "id": "LYvTjj_0Iwu8",
        "colab_type": "text"
      },
      "source": [
        "Adesso abbiamo ogni recensione rappresentata da una lista di parole utili, ma un modello di Machine Learning non."
      ]
    },
    {
      "cell_type": "code",
      "metadata": {
        "id": "4AT0j4TYIwu8",
        "colab_type": "code",
        "colab": {}
      },
      "source": [
        "from pyspark.ml.feature import CountVectorizer\n",
        "\n",
        "cv = CountVectorizer(inputCol='filtered', outputCol='features')\n",
        "cv_model = cv.fit(words_df)\n",
        "cv_df = cv_model.transform(words_df)"
      ],
      "execution_count": 0,
      "outputs": []
    },
    {
      "cell_type": "markdown",
      "metadata": {
        "id": "4dWTH6D9Iwu_",
        "colab_type": "text"
      },
      "source": [
        "Ora scartiamo pure tutte le colonne intermedie che abbiamo creato tenendo soltanto quelle che ci serviranno per realizzare il modello, features e stars."
      ]
    },
    {
      "cell_type": "code",
      "metadata": {
        "id": "Fssc-z8EIwvB",
        "colab_type": "code",
        "colab": {}
      },
      "source": [
        "cv_df = cv_df.select([\"features\",\"stars\"])\n",
        "#data_df.show(5)"
      ],
      "execution_count": 0,
      "outputs": []
    },
    {
      "cell_type": "markdown",
      "metadata": {
        "id": "hfdNsBV7IwvF",
        "colab_type": "text"
      },
      "source": [
        "## Quali sono le recensioni negative ?\n",
        "Come abbiamo già detto le recensioni sono accompagnate da una valutazione che va da 1.0 a 5.0 stelle, etichettiamo come positive le recensioni con una valutazione di almeno 3.5 stelle, mentre come negative quelle con una valutazione inferiore alle 2.5 stelle. <br>\n",
        "Le recensioni con 3 stelle sono tendenzialmente neutre, quindi rimuoviamole dal dataframe."
      ]
    },
    {
      "cell_type": "code",
      "metadata": {
        "id": "cPno9-jmIwvG",
        "colab_type": "code",
        "colab": {}
      },
      "source": [
        "from pyspark.sql.functions import when\n",
        "\n",
        "cv_df = cv_df.filter(\"stars != 3.0\")\n",
        "cv_df = cv_df.withColumn(\"label\", when(cv_df[\"stars\"]>=3.5, 1).otherwise(0))"
      ],
      "execution_count": 0,
      "outputs": []
    },
    {
      "cell_type": "markdown",
      "metadata": {
        "id": "QxIx5gkhIwvI",
        "colab_type": "text"
      },
      "source": [
        "Utilizziamo il metodo *randomSplit* per dividere il DataFrame in due:\n",
        "* un DataFrame per l'addestramento del modello che conterrà il 70% degli esempi.\n",
        "* un DataFrame per il testing del modello che conterrà il restante 30% degli esempi."
      ]
    },
    {
      "cell_type": "code",
      "metadata": {
        "id": "Hm7dZweZIwvJ",
        "colab_type": "code",
        "colab": {}
      },
      "source": [
        "train_df, test_df = cv_df.randomSplit([0.7, 0.3])"
      ],
      "execution_count": 0,
      "outputs": []
    },
    {
      "cell_type": "markdown",
      "metadata": {
        "id": "hL3jEpA2IwvL",
        "colab_type": "text"
      },
      "source": [
        "Ora possiamo creare il modello, utilizziamo una Regressione Logistica."
      ]
    },
    {
      "cell_type": "code",
      "metadata": {
        "id": "qSUax_VfIwvM",
        "colab_type": "code",
        "colab": {}
      },
      "source": [
        "from pyspark.ml.classification import LogisticRegression\n",
        "\n",
        "lr = LogisticRegression(featuresCol=\"features\", labelCol=\"label\")\n",
        "model = lr.fit(train_df)"
      ],
      "execution_count": 0,
      "outputs": []
    },
    {
      "cell_type": "markdown",
      "metadata": {
        "id": "dZw0DHApIwvN",
        "colab_type": "text"
      },
      "source": [
        "Valutiamo il modello addestrato sul DataFrame di test."
      ]
    },
    {
      "cell_type": "code",
      "metadata": {
        "id": "jZWPmYBIIwvO",
        "colab_type": "code",
        "colab": {},
        "outputId": "8fb6bcf7-a919-4473-c6d0-4200ae2eb294"
      },
      "source": [
        "evaluation = model.evaluate(test_df)\n",
        "print(evaluation.accuracy)\n",
        "print(evaluation.precisionByLabel)\n",
        "print(evaluation.recallByLabel)"
      ],
      "execution_count": 0,
      "outputs": [
        {
          "output_type": "stream",
          "text": [
            "0.9167448793684094\n",
            "[0.8501123595505617, 0.9384469003879089]\n",
            "[0.8181228373702422, 0.9505523018756024]\n"
          ],
          "name": "stdout"
        }
      ]
    },
    {
      "cell_type": "markdown",
      "metadata": {
        "id": "tMK1SzunIwvQ",
        "colab_type": "text"
      },
      "source": [
        "## Creiamo un modello con tutti i dati"
      ]
    },
    {
      "cell_type": "markdown",
      "metadata": {
        "id": "e-Uo2WzEIwvQ",
        "colab_type": "text"
      },
      "source": [
        "Bene, adesso addestriamo il modello utilizzando il dataset per intero con tutti le sue 6.685.900 recensioni.\n",
        "<br><br>\n",
        "**ATTENZIONE** Il processo di creazione del modello richiede molte risorse di calcolo e, di conseguenza, tempo. Dovresti utilizzare almeno una macchina EC2 di tipo t3a.large (costo ~7 centesimi l'ora) o meglio ancora un cluster con EMR.\n",
        "<br><br>\n",
        "Rimuoviamo la punteggiatura dal testo."
      ]
    },
    {
      "cell_type": "code",
      "metadata": {
        "id": "zUekk1J-IwvR",
        "colab_type": "code",
        "colab": {}
      },
      "source": [
        "data_df = reviews_df.withColumn(\"text\", punct_remove(reviews_df[\"text\"]))"
      ],
      "execution_count": 0,
      "outputs": []
    },
    {
      "cell_type": "markdown",
      "metadata": {
        "id": "BVRv1mtJIwvS",
        "colab_type": "text"
      },
      "source": [
        "Eseguiamo la tokenizzazione e rimuoviamo le stop words."
      ]
    },
    {
      "cell_type": "code",
      "metadata": {
        "id": "OKI8yhxFIwvT",
        "colab_type": "code",
        "colab": {}
      },
      "source": [
        "tokenizer = Tokenizer(inputCol=\"text\", outputCol=\"words\")\n",
        "data_df = tokenizer.transform(data_df)\n",
        "\n",
        "stopwords = StopWordsRemover(inputCol=\"words\", outputCol=\"filtered\")\n",
        "data_df = stopwords.transform(data_df)"
      ],
      "execution_count": 0,
      "outputs": []
    },
    {
      "cell_type": "markdown",
      "metadata": {
        "id": "eqWVtS7bIwvV",
        "colab_type": "text"
      },
      "source": [
        "Questa volta, piuttosto che usare un semplice modello Bag of Words per la rappresentazione delle parole, usiamo un modello più sofisticato, cioè il **TF-IDF** (Term Frequency - Inverse Document Frequency) che assegna un peso maggiore alle parole più rare e penalizza quelle più comuni."
      ]
    },
    {
      "cell_type": "code",
      "metadata": {
        "id": "qYukextOIwvW",
        "colab_type": "code",
        "colab": {}
      },
      "source": [
        "from pyspark.ml.feature import HashingTF, IDF\n",
        "\n",
        "hashing_tf = HashingTF(inputCol='filtered', outputCol='raw_features')\n",
        "data_df = hashing_tf.transform(data_df)\n",
        "\n",
        "idf = IDF(inputCol=\"raw_features\", outputCol=\"features\")\n",
        "idf_model = idf.fit(data_df)\n",
        "data_df = idf_model.transform(data_df)"
      ],
      "execution_count": 0,
      "outputs": []
    },
    {
      "cell_type": "markdown",
      "metadata": {
        "id": "wsDlIxfNIwvX",
        "colab_type": "text"
      },
      "source": [
        "Creiamo la colonna per il target."
      ]
    },
    {
      "cell_type": "code",
      "metadata": {
        "id": "A5aoCcc0IwvY",
        "colab_type": "code",
        "colab": {}
      },
      "source": [
        "data_df = data_df.filter(\"stars != 3.0\")\n",
        "data_df = data_df.withColumn(\"label\", when(data_df[\"stars\"]>=3.5, 1).otherwise(0))"
      ],
      "execution_count": 0,
      "outputs": []
    },
    {
      "cell_type": "markdown",
      "metadata": {
        "id": "fwvohznWIwvZ",
        "colab_type": "text"
      },
      "source": [
        "Dividiamo il dataframe in set di addestramento e di test, avendo moltissimi esempi possiamo anche ridurre la dimensione del set di test all'1%."
      ]
    },
    {
      "cell_type": "code",
      "metadata": {
        "id": "RT_jLcN5IwvZ",
        "colab_type": "code",
        "colab": {}
      },
      "source": [
        "train_df, test_df = data_df.randomSplit([0.9, 0.1])"
      ],
      "execution_count": 0,
      "outputs": []
    },
    {
      "cell_type": "markdown",
      "metadata": {
        "id": "ddvvWMl3Iwvb",
        "colab_type": "text"
      },
      "source": [
        "Creiamo il modello e addestriamolo."
      ]
    },
    {
      "cell_type": "code",
      "metadata": {
        "id": "wmkEye3-Iwvb",
        "colab_type": "code",
        "colab": {}
      },
      "source": [
        "lr = LogisticRegression(featuresCol=\"features\", labelCol=\"label\")\n",
        "model = lr.fit(train_df)"
      ],
      "execution_count": 0,
      "outputs": []
    },
    {
      "cell_type": "markdown",
      "metadata": {
        "id": "d0YTlVKwIwvd",
        "colab_type": "text"
      },
      "source": [
        "Valutiamolo sul set di test."
      ]
    },
    {
      "cell_type": "code",
      "metadata": {
        "id": "oUko_MfkIwvd",
        "colab_type": "code",
        "colab": {},
        "outputId": "f164112d-ab0f-4a45-ace1-65f5053c3344"
      },
      "source": [
        "evaluation = model.evaluate(test_df)\n",
        "print(evaluation.accuracy)\n",
        "print(evaluation.precisionByLabel)\n",
        "print(evaluation.recallByLabel)"
      ],
      "execution_count": 0,
      "outputs": [
        {
          "output_type": "stream",
          "text": [
            "0.9477827461000538\n"
          ],
          "name": "stdout"
        },
        {
          "output_type": "error",
          "ename": "KeyboardInterrupt",
          "evalue": "",
          "traceback": [
            "\u001b[0;31m---------------------------------------------------------------------------\u001b[0m",
            "\u001b[0;31mKeyboardInterrupt\u001b[0m                         Traceback (most recent call last)",
            "\u001b[0;32m<ipython-input-25-b2fcf1b54905>\u001b[0m in \u001b[0;36m<module>\u001b[0;34m\u001b[0m\n\u001b[1;32m      1\u001b[0m \u001b[0mevaluation\u001b[0m \u001b[0;34m=\u001b[0m \u001b[0mmodel\u001b[0m\u001b[0;34m.\u001b[0m\u001b[0mevaluate\u001b[0m\u001b[0;34m(\u001b[0m\u001b[0mtest_df\u001b[0m\u001b[0;34m)\u001b[0m\u001b[0;34m\u001b[0m\u001b[0;34m\u001b[0m\u001b[0m\n\u001b[1;32m      2\u001b[0m \u001b[0mprint\u001b[0m\u001b[0;34m(\u001b[0m\u001b[0mevaluation\u001b[0m\u001b[0;34m.\u001b[0m\u001b[0maccuracy\u001b[0m\u001b[0;34m)\u001b[0m\u001b[0;34m\u001b[0m\u001b[0;34m\u001b[0m\u001b[0m\n\u001b[0;32m----> 3\u001b[0;31m \u001b[0mprint\u001b[0m\u001b[0;34m(\u001b[0m\u001b[0mevaluation\u001b[0m\u001b[0;34m.\u001b[0m\u001b[0mprecisionByLabel\u001b[0m\u001b[0;34m)\u001b[0m\u001b[0;34m\u001b[0m\u001b[0;34m\u001b[0m\u001b[0m\n\u001b[0m\u001b[1;32m      4\u001b[0m \u001b[0mprint\u001b[0m\u001b[0;34m(\u001b[0m\u001b[0mevaluation\u001b[0m\u001b[0;34m.\u001b[0m\u001b[0mrecallByLabel\u001b[0m\u001b[0;34m)\u001b[0m\u001b[0;34m\u001b[0m\u001b[0;34m\u001b[0m\u001b[0m\n",
            "\u001b[0;32m~/spark/python/pyspark/ml/classification.py\u001b[0m in \u001b[0;36mprecisionByLabel\u001b[0;34m(self)\u001b[0m\n\u001b[1;32m    657\u001b[0m         \u001b[0mReturns\u001b[0m \u001b[0mprecision\u001b[0m \u001b[0;32mfor\u001b[0m \u001b[0meach\u001b[0m \u001b[0mlabel\u001b[0m \u001b[0;34m(\u001b[0m\u001b[0mcategory\u001b[0m\u001b[0;34m)\u001b[0m\u001b[0;34m.\u001b[0m\u001b[0;34m\u001b[0m\u001b[0;34m\u001b[0m\u001b[0m\n\u001b[1;32m    658\u001b[0m         \"\"\"\n\u001b[0;32m--> 659\u001b[0;31m         \u001b[0;32mreturn\u001b[0m \u001b[0mself\u001b[0m\u001b[0;34m.\u001b[0m\u001b[0m_call_java\u001b[0m\u001b[0;34m(\u001b[0m\u001b[0;34m\"precisionByLabel\"\u001b[0m\u001b[0;34m)\u001b[0m\u001b[0;34m\u001b[0m\u001b[0;34m\u001b[0m\u001b[0m\n\u001b[0m\u001b[1;32m    660\u001b[0m \u001b[0;34m\u001b[0m\u001b[0m\n\u001b[1;32m    661\u001b[0m     \u001b[0;34m@\u001b[0m\u001b[0mproperty\u001b[0m\u001b[0;34m\u001b[0m\u001b[0;34m\u001b[0m\u001b[0m\n",
            "\u001b[0;32m~/spark/python/pyspark/ml/wrapper.py\u001b[0m in \u001b[0;36m_call_java\u001b[0;34m(self, name, *args)\u001b[0m\n\u001b[1;32m     53\u001b[0m         \u001b[0msc\u001b[0m \u001b[0;34m=\u001b[0m \u001b[0mSparkContext\u001b[0m\u001b[0;34m.\u001b[0m\u001b[0m_active_spark_context\u001b[0m\u001b[0;34m\u001b[0m\u001b[0;34m\u001b[0m\u001b[0m\n\u001b[1;32m     54\u001b[0m         \u001b[0mjava_args\u001b[0m \u001b[0;34m=\u001b[0m \u001b[0;34m[\u001b[0m\u001b[0m_py2java\u001b[0m\u001b[0;34m(\u001b[0m\u001b[0msc\u001b[0m\u001b[0;34m,\u001b[0m \u001b[0marg\u001b[0m\u001b[0;34m)\u001b[0m \u001b[0;32mfor\u001b[0m \u001b[0marg\u001b[0m \u001b[0;32min\u001b[0m \u001b[0margs\u001b[0m\u001b[0;34m]\u001b[0m\u001b[0;34m\u001b[0m\u001b[0;34m\u001b[0m\u001b[0m\n\u001b[0;32m---> 55\u001b[0;31m         \u001b[0;32mreturn\u001b[0m \u001b[0m_java2py\u001b[0m\u001b[0;34m(\u001b[0m\u001b[0msc\u001b[0m\u001b[0;34m,\u001b[0m \u001b[0mm\u001b[0m\u001b[0;34m(\u001b[0m\u001b[0;34m*\u001b[0m\u001b[0mjava_args\u001b[0m\u001b[0;34m)\u001b[0m\u001b[0;34m)\u001b[0m\u001b[0;34m\u001b[0m\u001b[0;34m\u001b[0m\u001b[0m\n\u001b[0m\u001b[1;32m     56\u001b[0m \u001b[0;34m\u001b[0m\u001b[0m\n\u001b[1;32m     57\u001b[0m     \u001b[0;34m@\u001b[0m\u001b[0mstaticmethod\u001b[0m\u001b[0;34m\u001b[0m\u001b[0;34m\u001b[0m\u001b[0m\n",
            "\u001b[0;32m~/.local/lib/python3.6/site-packages/py4j/java_gateway.py\u001b[0m in \u001b[0;36m__call__\u001b[0;34m(self, *args)\u001b[0m\n\u001b[1;32m   1282\u001b[0m             \u001b[0mproto\u001b[0m\u001b[0;34m.\u001b[0m\u001b[0mEND_COMMAND_PART\u001b[0m\u001b[0;34m\u001b[0m\u001b[0;34m\u001b[0m\u001b[0m\n\u001b[1;32m   1283\u001b[0m \u001b[0;34m\u001b[0m\u001b[0m\n\u001b[0;32m-> 1284\u001b[0;31m         \u001b[0manswer\u001b[0m \u001b[0;34m=\u001b[0m \u001b[0mself\u001b[0m\u001b[0;34m.\u001b[0m\u001b[0mgateway_client\u001b[0m\u001b[0;34m.\u001b[0m\u001b[0msend_command\u001b[0m\u001b[0;34m(\u001b[0m\u001b[0mcommand\u001b[0m\u001b[0;34m)\u001b[0m\u001b[0;34m\u001b[0m\u001b[0;34m\u001b[0m\u001b[0m\n\u001b[0m\u001b[1;32m   1285\u001b[0m         return_value = get_return_value(\n\u001b[1;32m   1286\u001b[0m             answer, self.gateway_client, self.target_id, self.name)\n",
            "\u001b[0;32m~/.local/lib/python3.6/site-packages/py4j/java_gateway.py\u001b[0m in \u001b[0;36msend_command\u001b[0;34m(self, command, retry, binary)\u001b[0m\n\u001b[1;32m   1012\u001b[0m         \u001b[0mconnection\u001b[0m \u001b[0;34m=\u001b[0m \u001b[0mself\u001b[0m\u001b[0;34m.\u001b[0m\u001b[0m_get_connection\u001b[0m\u001b[0;34m(\u001b[0m\u001b[0;34m)\u001b[0m\u001b[0;34m\u001b[0m\u001b[0;34m\u001b[0m\u001b[0m\n\u001b[1;32m   1013\u001b[0m         \u001b[0;32mtry\u001b[0m\u001b[0;34m:\u001b[0m\u001b[0;34m\u001b[0m\u001b[0;34m\u001b[0m\u001b[0m\n\u001b[0;32m-> 1014\u001b[0;31m             \u001b[0mresponse\u001b[0m \u001b[0;34m=\u001b[0m \u001b[0mconnection\u001b[0m\u001b[0;34m.\u001b[0m\u001b[0msend_command\u001b[0m\u001b[0;34m(\u001b[0m\u001b[0mcommand\u001b[0m\u001b[0;34m)\u001b[0m\u001b[0;34m\u001b[0m\u001b[0;34m\u001b[0m\u001b[0m\n\u001b[0m\u001b[1;32m   1015\u001b[0m             \u001b[0;32mif\u001b[0m \u001b[0mbinary\u001b[0m\u001b[0;34m:\u001b[0m\u001b[0;34m\u001b[0m\u001b[0;34m\u001b[0m\u001b[0m\n\u001b[1;32m   1016\u001b[0m                 \u001b[0;32mreturn\u001b[0m \u001b[0mresponse\u001b[0m\u001b[0;34m,\u001b[0m \u001b[0mself\u001b[0m\u001b[0;34m.\u001b[0m\u001b[0m_create_connection_guard\u001b[0m\u001b[0;34m(\u001b[0m\u001b[0mconnection\u001b[0m\u001b[0;34m)\u001b[0m\u001b[0;34m\u001b[0m\u001b[0;34m\u001b[0m\u001b[0m\n",
            "\u001b[0;32m~/.local/lib/python3.6/site-packages/py4j/java_gateway.py\u001b[0m in \u001b[0;36msend_command\u001b[0;34m(self, command)\u001b[0m\n\u001b[1;32m   1179\u001b[0m \u001b[0;34m\u001b[0m\u001b[0m\n\u001b[1;32m   1180\u001b[0m         \u001b[0;32mtry\u001b[0m\u001b[0;34m:\u001b[0m\u001b[0;34m\u001b[0m\u001b[0;34m\u001b[0m\u001b[0m\n\u001b[0;32m-> 1181\u001b[0;31m             \u001b[0manswer\u001b[0m \u001b[0;34m=\u001b[0m \u001b[0msmart_decode\u001b[0m\u001b[0;34m(\u001b[0m\u001b[0mself\u001b[0m\u001b[0;34m.\u001b[0m\u001b[0mstream\u001b[0m\u001b[0;34m.\u001b[0m\u001b[0mreadline\u001b[0m\u001b[0;34m(\u001b[0m\u001b[0;34m)\u001b[0m\u001b[0;34m[\u001b[0m\u001b[0;34m:\u001b[0m\u001b[0;34m-\u001b[0m\u001b[0;36m1\u001b[0m\u001b[0;34m]\u001b[0m\u001b[0;34m)\u001b[0m\u001b[0;34m\u001b[0m\u001b[0;34m\u001b[0m\u001b[0m\n\u001b[0m\u001b[1;32m   1182\u001b[0m             \u001b[0mlogger\u001b[0m\u001b[0;34m.\u001b[0m\u001b[0mdebug\u001b[0m\u001b[0;34m(\u001b[0m\u001b[0;34m\"Answer received: {0}\"\u001b[0m\u001b[0;34m.\u001b[0m\u001b[0mformat\u001b[0m\u001b[0;34m(\u001b[0m\u001b[0manswer\u001b[0m\u001b[0;34m)\u001b[0m\u001b[0;34m)\u001b[0m\u001b[0;34m\u001b[0m\u001b[0;34m\u001b[0m\u001b[0m\n\u001b[1;32m   1183\u001b[0m             \u001b[0;32mif\u001b[0m \u001b[0manswer\u001b[0m\u001b[0;34m.\u001b[0m\u001b[0mstartswith\u001b[0m\u001b[0;34m(\u001b[0m\u001b[0mproto\u001b[0m\u001b[0;34m.\u001b[0m\u001b[0mRETURN_MESSAGE\u001b[0m\u001b[0;34m)\u001b[0m\u001b[0;34m:\u001b[0m\u001b[0;34m\u001b[0m\u001b[0;34m\u001b[0m\u001b[0m\n",
            "\u001b[0;32m/usr/lib/python3.6/socket.py\u001b[0m in \u001b[0;36mreadinto\u001b[0;34m(self, b)\u001b[0m\n\u001b[1;32m    584\u001b[0m         \u001b[0;32mwhile\u001b[0m \u001b[0;32mTrue\u001b[0m\u001b[0;34m:\u001b[0m\u001b[0;34m\u001b[0m\u001b[0;34m\u001b[0m\u001b[0m\n\u001b[1;32m    585\u001b[0m             \u001b[0;32mtry\u001b[0m\u001b[0;34m:\u001b[0m\u001b[0;34m\u001b[0m\u001b[0;34m\u001b[0m\u001b[0m\n\u001b[0;32m--> 586\u001b[0;31m                 \u001b[0;32mreturn\u001b[0m \u001b[0mself\u001b[0m\u001b[0;34m.\u001b[0m\u001b[0m_sock\u001b[0m\u001b[0;34m.\u001b[0m\u001b[0mrecv_into\u001b[0m\u001b[0;34m(\u001b[0m\u001b[0mb\u001b[0m\u001b[0;34m)\u001b[0m\u001b[0;34m\u001b[0m\u001b[0;34m\u001b[0m\u001b[0m\n\u001b[0m\u001b[1;32m    587\u001b[0m             \u001b[0;32mexcept\u001b[0m \u001b[0mtimeout\u001b[0m\u001b[0;34m:\u001b[0m\u001b[0;34m\u001b[0m\u001b[0;34m\u001b[0m\u001b[0m\n\u001b[1;32m    588\u001b[0m                 \u001b[0mself\u001b[0m\u001b[0;34m.\u001b[0m\u001b[0m_timeout_occurred\u001b[0m \u001b[0;34m=\u001b[0m \u001b[0;32mTrue\u001b[0m\u001b[0;34m\u001b[0m\u001b[0;34m\u001b[0m\u001b[0m\n",
            "\u001b[0;31mKeyboardInterrupt\u001b[0m: "
          ]
        }
      ]
    },
    {
      "cell_type": "markdown",
      "metadata": {
        "id": "pfeKosQbIwvg",
        "colab_type": "text"
      },
      "source": [
        "## Testiamo il Modello"
      ]
    },
    {
      "cell_type": "code",
      "metadata": {
        "id": "8L5SFlksIwvh",
        "colab_type": "code",
        "colab": {}
      },
      "source": [
        "reviews = [\n",
        "        (\"World's Largest Entertainment McDonald's\",\"Lazy staff who do not want to serve u would rather stand in corners in groups talking stood at counter 10 minutes with all staff refusing eye contact as fear of having to serve u supervisor went over and shouted at staff they all stood there shrugging shoulders not wanting t serve u then when orders were ready staff came with trays dragging feet and rolling eyes then it was cold horrible won’t return !!\"),\n",
        "        (\"Disnayland Paris\",\"Went here 2x with my husband and found it more magical the 2nd time. Still the happiest place on earth on my list. It gets better and better.\"),\n",
        "        (\"58 Tour Eiffel Restaurant\",\"What an experience! what a VIEW!. what a meal!!... Delicious, fine dining. excellent0 excellent service and food. A memory of a lifetime\"),\n",
        "        (\"Ristorante Cracco\",\"If you want to start your trip in Milan with good mood, for sure you have to avoid this restaurant - the worst pizza we had and the smallest portion of pasta! And incompatible price for that everything! Even, I am really angry, because this is not my first visit in Italy and not first pizza and I feel myself like ....!!!!\"),\n",
        "        (\"Happy Wok\",\"Stay away as far as you can, unless you like goopy tables and mass produced food that appeared to be sitting out for too long. It wasn’t a nice experience and we will not attempt to go back under any circumstance\"),\n",
        "        (\"Pepe in grani\",\"45 minutes driving from Naples center. Worth every moment on the way. The best and the most unique pizza I ever tasted. Very nice place, every centimeter was well though and planned before implemented. Nice terrace on top for those like the view. Very welcoming crew, great and fast service. Recommend to order the tasting option for those coming in parties of four. \")\n",
        "    ]\n",
        "\n",
        "test_df = sqlContext.createDataFrame(reviews, [\"location\",\"text\"] )"
      ],
      "execution_count": 0,
      "outputs": []
    },
    {
      "cell_type": "code",
      "metadata": {
        "id": "ROIlF3jEIwvj",
        "colab_type": "code",
        "colab": {}
      },
      "source": [
        "test_df = test_df.withColumn(\"text\", punct_remove(test_df[\"text\"]))"
      ],
      "execution_count": 0,
      "outputs": []
    },
    {
      "cell_type": "code",
      "metadata": {
        "id": "DYbjh14DIwvm",
        "colab_type": "code",
        "colab": {}
      },
      "source": [
        "test_df = tokenizer.transform(test_df)\n",
        "test_df = stopwords.transform(test_df)"
      ],
      "execution_count": 0,
      "outputs": []
    },
    {
      "cell_type": "code",
      "metadata": {
        "id": "fgHh2YU7Iwvo",
        "colab_type": "code",
        "colab": {}
      },
      "source": [
        "test_df = hashing_tf.transform(test_df)\n",
        "test_df = idf_model.transform(test_df)"
      ],
      "execution_count": 0,
      "outputs": []
    },
    {
      "cell_type": "code",
      "metadata": {
        "id": "r7D8xO7WIwvq",
        "colab_type": "code",
        "colab": {}
      },
      "source": [
        "pred_df = model.transform(test_df)"
      ],
      "execution_count": 0,
      "outputs": []
    },
    {
      "cell_type": "code",
      "metadata": {
        "id": "gwQfwHJFIwvt",
        "colab_type": "code",
        "colab": {}
      },
      "source": [
        "#pred_df = pred_df.select([\"text\", \"label\"])\n",
        "pred_df.show()"
      ],
      "execution_count": 0,
      "outputs": []
    },
    {
      "cell_type": "code",
      "metadata": {
        "id": "zJWT9IUgIwvu",
        "colab_type": "code",
        "colab": {}
      },
      "source": [
        ""
      ],
      "execution_count": 0,
      "outputs": []
    }
  ]
}