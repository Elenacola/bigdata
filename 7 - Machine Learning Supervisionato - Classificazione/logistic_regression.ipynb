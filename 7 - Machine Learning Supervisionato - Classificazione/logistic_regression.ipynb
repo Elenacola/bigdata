{
  "nbformat": 4,
  "nbformat_minor": 0,
  "metadata": {
    "name": "logistic_regression",
    "notebookId": 2246374182813684,
    "colab": {
      "name": "logistic_regression.ipynb",
      "version": "0.3.2",
      "provenance": []
    }
  },
  "cells": [
    {
      "cell_type": "markdown",
      "metadata": {
        "id": "13sUrJEHK_CJ",
        "colab_type": "text"
      },
      "source": [
        "# Regressione Logistica con Spark MLlib\n",
        "In questo notebook vedremo come eseguire una semplice classificazione, utilizzando un modello di Regressione Logistica con il modulo MLlib di Spark. Il modello che andremo ha creare ha lo scopo di identificare tumori al seno maligni da delle informazioni estratte da delle agobiopsie."
      ]
    },
    {
      "cell_type": "markdown",
      "metadata": {
        "id": "CfaJL1ozK_CL",
        "colab_type": "text"
      },
      "source": [
        "## Procuriamoci il Dataset e importiamolo in un DataFrame\n",
        "Possiamo scaricare il Dataset da [quesa pagina su Kaggle](https://www.kaggle.com/uciml/breast-cancer-wisconsin-data). Puoi anche scaricarlo senza uscire da Jupyter Notebook usando le  API di Kaggle per Python."
      ]
    },
    {
      "cell_type": "code",
      "metadata": {
        "id": "hQK9r1p7LK31",
        "colab_type": "code",
        "colab": {}
      },
      "source": [
        "!kaggle datasets download uciml/breast-cancer-wisconsin-data"
      ],
      "execution_count": 0,
      "outputs": []
    },
    {
      "cell_type": "markdown",
      "metadata": {
        "id": "G-CxFF_BLj0P",
        "colab_type": "text"
      },
      "source": [
        "Il dataset è all'interno di un file ZIP, decomprimiamolo con unzip"
      ]
    },
    {
      "cell_type": "code",
      "metadata": {
        "id": "AzzO7F24Loak",
        "colab_type": "code",
        "colab": {}
      },
      "source": [
        "!unzip breast-cancer-wisconsin-data.zip"
      ],
      "execution_count": 0,
      "outputs": []
    },
    {
      "cell_type": "markdown",
      "metadata": {
        "id": "1e7PdZeVL0j7",
        "colab_type": "text"
      },
      "source": [
        "Otterremo un file chiamato data.csv, che contiene il dataset, importiamolo in un DataFrame."
      ]
    },
    {
      "cell_type": "code",
      "metadata": {
        "id": "L4LzpClgK_CM",
        "colab_type": "code",
        "colab": {},
        "outputId": "a5e86f12-d2a3-4d80-f406-1b833f8e804d"
      },
      "source": [
        "cancer_df = spark.read.csv(\"data.csv\")\n",
        "cancer_df.columns"
      ],
      "execution_count": 0,
      "outputs": [
        {
          "output_type": "display_data",
          "data": {
            "text/html": [
              "<style scoped>\n",
              "  .ansiout {\n",
              "    display: block;\n",
              "    unicode-bidi: embed;\n",
              "    white-space: pre-wrap;\n",
              "    word-wrap: break-word;\n",
              "    word-break: break-all;\n",
              "    font-family: \"Source Code Pro\", \"Menlo\", monospace;;\n",
              "    font-size: 13px;\n",
              "    color: #555;\n",
              "    margin-left: 4px;\n",
              "    line-height: 19px;\n",
              "  }\n",
              "</style>\n",
              "<div class=\"ansiout\"><span class=\"ansired\">Out[</span><span class=\"ansired\">5</span><span class=\"ansired\">]: </span>\n",
              "[&apos;mean radius&apos;,\n",
              " &apos;mean texture&apos;,\n",
              " &apos;mean perimeter&apos;,\n",
              " &apos;mean area&apos;,\n",
              " &apos;mean smoothness&apos;,\n",
              " &apos;mean compactness&apos;,\n",
              " &apos;mean concavity&apos;,\n",
              " &apos;mean concave points&apos;,\n",
              " &apos;mean symmetry&apos;,\n",
              " &apos;mean fractal dimension&apos;,\n",
              " &apos;radius error&apos;,\n",
              " &apos;texture error&apos;,\n",
              " &apos;perimeter error&apos;,\n",
              " &apos;area error&apos;,\n",
              " &apos;smoothness error&apos;,\n",
              " &apos;compactness error&apos;,\n",
              " &apos;concavity error&apos;,\n",
              " &apos;concave points error&apos;,\n",
              " &apos;symmetry error&apos;,\n",
              " &apos;fractal dimension error&apos;,\n",
              " &apos;worst radius&apos;,\n",
              " &apos;worst texture&apos;,\n",
              " &apos;worst perimeter&apos;,\n",
              " &apos;worst area&apos;,\n",
              " &apos;worst smoothness&apos;,\n",
              " &apos;worst compactness&apos;,\n",
              " &apos;worst concavity&apos;,\n",
              " &apos;worst concave points&apos;,\n",
              " &apos;worst symmetry&apos;,\n",
              " &apos;worst fractal dimension&apos;,\n",
              " &apos;malignant&apos;]\n",
              "</div>"
            ]
          },
          "metadata": {
            "tags": []
          }
        }
      ]
    },
    {
      "cell_type": "markdown",
      "metadata": {
        "id": "mpy4ImvtK_CP",
        "colab_type": "text"
      },
      "source": [
        "Il DataFrame ha 31 colonne:\n",
        "* 30 features: che rappresentano delle proprietà dell'immagine, come raggio, area e perimetro.\n",
        "* 1 target: che è la colonna malignant, un valore di 1 indica un tumore maligno, al contrario un valore di 0 indica un tumore benigno."
      ]
    },
    {
      "cell_type": "markdown",
      "metadata": {
        "id": "Kqe16hRyK_CQ",
        "colab_type": "text"
      },
      "source": [
        "## Preprocessing dei dati\n",
        "%md La classe MLlib richiede che le features si trovino tutte all'interno di un unico vettore su di una colonna, possiamo creare questa rappresentazione utilizzando la classe *VectorAssemlber* di MLlib:\n",
        "* All'interno del parametro inputCols dobbiamo specificare quali sono le colonne con gli input.\n",
        "* All'interno del parametro outputCol dobbiamo specificare il nome della colonna che conterrà le features."
      ]
    },
    {
      "cell_type": "code",
      "metadata": {
        "id": "FAdF8O9dK_CQ",
        "colab_type": "code",
        "colab": {},
        "outputId": "7b600cd3-e8d8-4638-e634-8735abb93308"
      },
      "source": [
        "from pyspark.ml.feature import VectorAssembler\n",
        "\n",
        "assembler = VectorAssembler(inputCols=cancer_df.columns[:-1], outputCol=\"features\")\n",
        "data_df = assembler.transform(cancer_df)"
      ],
      "execution_count": 0,
      "outputs": [
        {
          "output_type": "display_data",
          "data": {
            "text/html": [
              "<style scoped>\n",
              "  .ansiout {\n",
              "    display: block;\n",
              "    unicode-bidi: embed;\n",
              "    white-space: pre-wrap;\n",
              "    word-wrap: break-word;\n",
              "    word-break: break-all;\n",
              "    font-family: \"Source Code Pro\", \"Menlo\", monospace;;\n",
              "    font-size: 13px;\n",
              "    color: #555;\n",
              "    margin-left: 4px;\n",
              "    line-height: 19px;\n",
              "  }\n",
              "</style>\n",
              "<div class=\"ansiout\"></div>"
            ]
          },
          "metadata": {
            "tags": []
          }
        }
      ]
    },
    {
      "cell_type": "markdown",
      "metadata": {
        "id": "QDSye9u3K_CS",
        "colab_type": "text"
      },
      "source": [
        "%md E' buona norma portare le features in un range di valori comuni, questo processo può velocizzare anche di molto la fase di addestramento. Facciamolo tramite la **standardizzazione** che ci permette di contenere le varie colonne all'interno di una distribuzione normale, cioè una distribuzione con media 0 e deviazione standard 1. Possiamo eseguire la standardizzazione usando la classe *StandardScaler* di MLlib."
      ]
    },
    {
      "cell_type": "code",
      "metadata": {
        "id": "fmaKhdUcK_CT",
        "colab_type": "code",
        "colab": {},
        "outputId": "c127f302-7a33-47bb-be75-52144fc2b26d"
      },
      "source": [
        "from pyspark.ml.feature import StandardScaler\n",
        "\n",
        "scaler = StandardScaler(inputCol=\"features\", outputCol=\"scaled_features\")\n",
        "scaler_model = scaler.fit(data_df)\n",
        "data_df = scaler_model.transform(data_df)"
      ],
      "execution_count": 0,
      "outputs": [
        {
          "output_type": "display_data",
          "data": {
            "text/html": [
              "<style scoped>\n",
              "  .ansiout {\n",
              "    display: block;\n",
              "    unicode-bidi: embed;\n",
              "    white-space: pre-wrap;\n",
              "    word-wrap: break-word;\n",
              "    word-break: break-all;\n",
              "    font-family: \"Source Code Pro\", \"Menlo\", monospace;;\n",
              "    font-size: 13px;\n",
              "    color: #555;\n",
              "    margin-left: 4px;\n",
              "    line-height: 19px;\n",
              "  }\n",
              "</style>\n",
              "<div class=\"ansiout\"></div>"
            ]
          },
          "metadata": {
            "tags": []
          }
        }
      ]
    },
    {
      "cell_type": "markdown",
      "metadata": {
        "id": "9AYHrqB_K_CV",
        "colab_type": "text"
      },
      "source": [
        "Ora possiamo creare i DataFrame per addestramento e test, estraendoli dal Dataframe originale, possiamo farlo tramite il metodo RandomSplit. Assegnamo il 70% degli esempi al set di addestramento e il 30% al set di test."
      ]
    },
    {
      "cell_type": "code",
      "metadata": {
        "id": "KKHYsktGK_CV",
        "colab_type": "code",
        "colab": {},
        "outputId": "37298e60-56ef-49e6-89b7-f80d0934a1d6"
      },
      "source": [
        "train_set, test_set = data_df.randomSplit([0.7, 0.3])\n",
        "\n",
        "print(\"%d esempi nel train set\" % train_set.count())\n",
        "print(\"%d esempi nel test set\" % test_set.count())"
      ],
      "execution_count": 0,
      "outputs": [
        {
          "output_type": "display_data",
          "data": {
            "text/html": [
              "<style scoped>\n",
              "  .ansiout {\n",
              "    display: block;\n",
              "    unicode-bidi: embed;\n",
              "    white-space: pre-wrap;\n",
              "    word-wrap: break-word;\n",
              "    word-break: break-all;\n",
              "    font-family: \"Source Code Pro\", \"Menlo\", monospace;;\n",
              "    font-size: 13px;\n",
              "    color: #555;\n",
              "    margin-left: 4px;\n",
              "    line-height: 19px;\n",
              "  }\n",
              "</style>\n",
              "<div class=\"ansiout\">393 esempi nel train set\n",
              "170 esempi nel test set\n",
              "</div>"
            ]
          },
          "metadata": {
            "tags": []
          }
        }
      ]
    },
    {
      "cell_type": "markdown",
      "metadata": {
        "id": "OAVK_UCSK_CX",
        "colab_type": "text"
      },
      "source": [
        "Ottimo ! Ora possiamo creare il modello di Regressione Logistica, usiamo la classe *LogisticRegression, all'interno del costruttore dovremo passare due parametri:\n",
        "* **featuresCol**: il nome della colonna con le features\n",
        "* **labelCol**: il nome della colonna con il target"
      ]
    },
    {
      "cell_type": "code",
      "metadata": {
        "id": "BSpGVxJJK_CY",
        "colab_type": "code",
        "colab": {},
        "outputId": "8e6cee2e-fc42-4480-846e-51417ba4b07e"
      },
      "source": [
        "from pyspark.ml.classification import LogisticRegression\n",
        "\n",
        "lr = LogisticRegression(featuresCol=\"scaled_features\", labelCol=\"malignant\")"
      ],
      "execution_count": 0,
      "outputs": [
        {
          "output_type": "display_data",
          "data": {
            "text/html": [
              "<style scoped>\n",
              "  .ansiout {\n",
              "    display: block;\n",
              "    unicode-bidi: embed;\n",
              "    white-space: pre-wrap;\n",
              "    word-wrap: break-word;\n",
              "    word-break: break-all;\n",
              "    font-family: \"Source Code Pro\", \"Menlo\", monospace;;\n",
              "    font-size: 13px;\n",
              "    color: #555;\n",
              "    margin-left: 4px;\n",
              "    line-height: 19px;\n",
              "  }\n",
              "</style>\n",
              "<div class=\"ansiout\"></div>"
            ]
          },
          "metadata": {
            "tags": []
          }
        }
      ]
    },
    {
      "cell_type": "markdown",
      "metadata": {
        "id": "K_Dl-boPK_Ca",
        "colab_type": "text"
      },
      "source": [
        "Avviamo l'addestramento con il metodo *fit*, passando al suo interno il set di addetramento"
      ]
    },
    {
      "cell_type": "code",
      "metadata": {
        "id": "Ikm4hkTDK_Cb",
        "colab_type": "code",
        "colab": {},
        "outputId": "e769a810-690e-4298-f46d-22dada2b92c4"
      },
      "source": [
        "model = lr.fit(train_set)"
      ],
      "execution_count": 0,
      "outputs": [
        {
          "output_type": "display_data",
          "data": {
            "text/html": [
              "<style scoped>\n",
              "  .ansiout {\n",
              "    display: block;\n",
              "    unicode-bidi: embed;\n",
              "    white-space: pre-wrap;\n",
              "    word-wrap: break-word;\n",
              "    word-break: break-all;\n",
              "    font-family: \"Source Code Pro\", \"Menlo\", monospace;;\n",
              "    font-size: 13px;\n",
              "    color: #555;\n",
              "    margin-left: 4px;\n",
              "    line-height: 19px;\n",
              "  }\n",
              "</style>\n",
              "<div class=\"ansiout\"></div>"
            ]
          },
          "metadata": {
            "tags": []
          }
        }
      ]
    },
    {
      "cell_type": "markdown",
      "metadata": {
        "id": "t83vQaBDK_Cd",
        "colab_type": "text"
      },
      "source": [
        "Abbiamo creato il nostro modello ! Ora verifichiamone la qualità."
      ]
    },
    {
      "cell_type": "markdown",
      "metadata": {
        "id": "IhxGjtb3K_Cd",
        "colab_type": "text"
      },
      "source": [
        "## Valutiamo il Modello\n",
        "Ora verifichiamone la qualità testandolo su dati che non ha visto durante l'addestramento, possiamo farlo usando il test set e il metodo *evalualte*."
      ]
    },
    {
      "cell_type": "code",
      "metadata": {
        "id": "gS4JVJ4aK_Cf",
        "colab_type": "code",
        "colab": {},
        "outputId": "2789ba99-58dd-498c-968f-2ebbe4942780"
      },
      "source": [
        "evaluation = model.evaluate(test_set)"
      ],
      "execution_count": 0,
      "outputs": [
        {
          "output_type": "display_data",
          "data": {
            "text/html": [
              "<style scoped>\n",
              "  .ansiout {\n",
              "    display: block;\n",
              "    unicode-bidi: embed;\n",
              "    white-space: pre-wrap;\n",
              "    word-wrap: break-word;\n",
              "    word-break: break-all;\n",
              "    font-family: \"Source Code Pro\", \"Menlo\", monospace;;\n",
              "    font-size: 13px;\n",
              "    color: #555;\n",
              "    margin-left: 4px;\n",
              "    line-height: 19px;\n",
              "  }\n",
              "</style>\n",
              "<div class=\"ansiout\"></div>"
            ]
          },
          "metadata": {
            "tags": []
          }
        }
      ]
    },
    {
      "cell_type": "markdown",
      "metadata": {
        "id": "Ng_qOA_dK_Ch",
        "colab_type": "text"
      },
      "source": [
        "Il metodo *evaluate* calcolerà diverse metriche che ci possono aiutare a comprendere la qualità del modello, vediamone alcune."
      ]
    },
    {
      "cell_type": "markdown",
      "metadata": {
        "id": "8LY-LIP_K_Ci",
        "colab_type": "text"
      },
      "source": [
        "#### Accuracy (Accuratezza)\n",
        "L'accuracy indica semplicemente la percentuale di classificazioni che il nostro modello ha eseguito correttamente."
      ]
    },
    {
      "cell_type": "code",
      "metadata": {
        "id": "Fj4BbxNjK_Cj",
        "colab_type": "code",
        "colab": {},
        "outputId": "c73f34ff-546d-4af3-d3c0-e7223daba281"
      },
      "source": [
        "evaluation.accuracy"
      ],
      "execution_count": 0,
      "outputs": [
        {
          "output_type": "display_data",
          "data": {
            "text/html": [
              "<style scoped>\n",
              "  .ansiout {\n",
              "    display: block;\n",
              "    unicode-bidi: embed;\n",
              "    white-space: pre-wrap;\n",
              "    word-wrap: break-word;\n",
              "    word-break: break-all;\n",
              "    font-family: \"Source Code Pro\", \"Menlo\", monospace;;\n",
              "    font-size: 13px;\n",
              "    color: #555;\n",
              "    margin-left: 4px;\n",
              "    line-height: 19px;\n",
              "  }\n",
              "</style>\n",
              "<div class=\"ansiout\"><span class=\"ansired\">Out[</span><span class=\"ansired\">10</span><span class=\"ansired\">]: </span>0.956989247311828\n",
              "</div>"
            ]
          },
          "metadata": {
            "tags": []
          }
        }
      ]
    },
    {
      "cell_type": "markdown",
      "metadata": {
        "id": "5a_hWueGK_Cm",
        "colab_type": "text"
      },
      "source": [
        "### Precision (Precision)\n",
        "La precision ci dice, tra le classificazioni eseguite per una data classe, quante sono effettivamente apparteneti a quella classe."
      ]
    },
    {
      "cell_type": "code",
      "metadata": {
        "id": "1DkGldErK_Cm",
        "colab_type": "code",
        "colab": {},
        "outputId": "18a8f766-80c9-4814-d368-ee71a26feec1"
      },
      "source": [
        "evaluation.precisionByLabel"
      ],
      "execution_count": 0,
      "outputs": [
        {
          "output_type": "display_data",
          "data": {
            "text/html": [
              "<style scoped>\n",
              "  .ansiout {\n",
              "    display: block;\n",
              "    unicode-bidi: embed;\n",
              "    white-space: pre-wrap;\n",
              "    word-wrap: break-word;\n",
              "    word-break: break-all;\n",
              "    font-family: \"Source Code Pro\", \"Menlo\", monospace;;\n",
              "    font-size: 13px;\n",
              "    color: #555;\n",
              "    margin-left: 4px;\n",
              "    line-height: 19px;\n",
              "  }\n",
              "</style>\n",
              "<div class=\"ansiout\"><span class=\"ansired\">Out[</span><span class=\"ansired\">37</span><span class=\"ansired\">]: </span>[0.9545454545454546, 0.9519230769230769]\n",
              "</div>"
            ]
          },
          "metadata": {
            "tags": []
          }
        }
      ]
    },
    {
      "cell_type": "markdown",
      "metadata": {
        "id": "irmO8o7zK_Co",
        "colab_type": "text"
      },
      "source": [
        "### Recall (Richiamo)\n",
        "Il recall ci dice quanti dei casi positivi il modello è riuscito a classificare correttamente."
      ]
    },
    {
      "cell_type": "code",
      "metadata": {
        "id": "sehYFbX9K_Cp",
        "colab_type": "code",
        "colab": {},
        "outputId": "e140970a-653b-4815-e305-556a6f7b8ffe"
      },
      "source": [
        "evaluation.recallByLabel"
      ],
      "execution_count": 0,
      "outputs": [
        {
          "output_type": "display_data",
          "data": {
            "text/html": [
              "<style scoped>\n",
              "  .ansiout {\n",
              "    display: block;\n",
              "    unicode-bidi: embed;\n",
              "    white-space: pre-wrap;\n",
              "    word-wrap: break-word;\n",
              "    word-break: break-all;\n",
              "    font-family: \"Source Code Pro\", \"Menlo\", monospace;;\n",
              "    font-size: 13px;\n",
              "    color: #555;\n",
              "    margin-left: 4px;\n",
              "    line-height: 19px;\n",
              "  }\n",
              "</style>\n",
              "<div class=\"ansiout\"><span class=\"ansired\">Out[</span><span class=\"ansired\">40</span><span class=\"ansired\">]: </span>[0.9264705882352942, 0.9705882352941176]\n",
              "</div>"
            ]
          },
          "metadata": {
            "tags": []
          }
        }
      ]
    },
    {
      "cell_type": "markdown",
      "metadata": {
        "id": "qYQGCmHJK_Cr",
        "colab_type": "text"
      },
      "source": [
        "## Testiamo il modello\n",
        "Ora che abbiamo addestrato e validato il nostro modello, testiamolo su nuovi dati. Una clinica ci invia un file CSV contenente i risultati dell'agobiopsia per 6 pazienti che hanno in cura, dobbiamo utilizzare il nostro modello per identificare eventuali tumori maligni. Scarichiamo  il CSV"
      ]
    },
    {
      "cell_type": "code",
      "metadata": {
        "id": "aAJtCukeK_Cr",
        "colab_type": "code",
        "colab": {},
        "outputId": "b5534b32-d54a-426a-dc95-699ec136b390"
      },
      "source": [
        "!wget https://raw.githubusercontent.com/ProfAI/bigdata/master/7%20-%20Machine%20Learning%20Supervisionato%20-%20Classificazione/data/exam_results.csv"
      ],
      "execution_count": 0,
      "outputs": [
        {
          "output_type": "display_data",
          "data": {
            "text/html": [
              "<style scoped>\n",
              "  .ansiout {\n",
              "    display: block;\n",
              "    unicode-bidi: embed;\n",
              "    white-space: pre-wrap;\n",
              "    word-wrap: break-word;\n",
              "    word-break: break-all;\n",
              "    font-family: \"Source Code Pro\", \"Menlo\", monospace;;\n",
              "    font-size: 13px;\n",
              "    color: #555;\n",
              "    margin-left: 4px;\n",
              "    line-height: 19px;\n",
              "  }\n",
              "</style>\n",
              "<div class=\"ansiout\"></div>"
            ]
          },
          "metadata": {
            "tags": []
          }
        }
      ]
    },
    {
      "cell_type": "markdown",
      "metadata": {
        "id": "Kwbm3VBFK_Ct",
        "colab_type": "text"
      },
      "source": [
        "Carichiamolo all'interno di un DataFrame."
      ]
    },
    {
      "cell_type": "code",
      "metadata": {
        "id": "9GTvgMh7K_Ct",
        "colab_type": "code",
        "colab": {},
        "outputId": "83cf2355-f25b-4ae8-d4a2-338523eeaef3"
      },
      "source": [
        "exams_df = spark.read.csv(\"file:/databricks/driver/exam_results.csv\", inferSchema=True, header=True)"
      ],
      "execution_count": 0,
      "outputs": [
        {
          "output_type": "display_data",
          "data": {
            "text/html": [
              "<style scoped>\n",
              "  .ansiout {\n",
              "    display: block;\n",
              "    unicode-bidi: embed;\n",
              "    white-space: pre-wrap;\n",
              "    word-wrap: break-word;\n",
              "    word-break: break-all;\n",
              "    font-family: \"Source Code Pro\", \"Menlo\", monospace;;\n",
              "    font-size: 13px;\n",
              "    color: #555;\n",
              "    margin-left: 4px;\n",
              "    line-height: 19px;\n",
              "  }\n",
              "</style>\n",
              "<div class=\"ansiout\"></div>"
            ]
          },
          "metadata": {
            "tags": []
          }
        }
      ]
    },
    {
      "cell_type": "markdown",
      "metadata": {
        "id": "rcNFv5I_K_Cv",
        "colab_type": "text"
      },
      "source": [
        "Creiamo la colonna con le features"
      ]
    },
    {
      "cell_type": "code",
      "metadata": {
        "id": "oKHmpqn5K_Cw",
        "colab_type": "code",
        "colab": {},
        "outputId": "2c139c73-c6c9-4081-a3fb-bd32bbfca893"
      },
      "source": [
        "new_data_df = assembler.transform(exams_df)"
      ],
      "execution_count": 0,
      "outputs": [
        {
          "output_type": "display_data",
          "data": {
            "text/html": [
              "<style scoped>\n",
              "  .ansiout {\n",
              "    display: block;\n",
              "    unicode-bidi: embed;\n",
              "    white-space: pre-wrap;\n",
              "    word-wrap: break-word;\n",
              "    word-break: break-all;\n",
              "    font-family: \"Source Code Pro\", \"Menlo\", monospace;;\n",
              "    font-size: 13px;\n",
              "    color: #555;\n",
              "    margin-left: 4px;\n",
              "    line-height: 19px;\n",
              "  }\n",
              "</style>\n",
              "<div class=\"ansiout\"></div>"
            ]
          },
          "metadata": {
            "tags": []
          }
        }
      ]
    },
    {
      "cell_type": "markdown",
      "metadata": {
        "id": "QCMAlvMlK_Cx",
        "colab_type": "text"
      },
      "source": [
        "Eseguiamo la standardizzazione"
      ]
    },
    {
      "cell_type": "code",
      "metadata": {
        "id": "YtL0jascK_Cy",
        "colab_type": "code",
        "colab": {},
        "outputId": "d877f645-20c1-44fc-9205-4010872a23cd"
      },
      "source": [
        "new_data_df = scaler_model.transform(new_data_df"
      ],
      "execution_count": 0,
      "outputs": [
        {
          "output_type": "display_data",
          "data": {
            "text/html": [
              "<style scoped>\n",
              "  .ansiout {\n",
              "    display: block;\n",
              "    unicode-bidi: embed;\n",
              "    white-space: pre-wrap;\n",
              "    word-wrap: break-word;\n",
              "    word-break: break-all;\n",
              "    font-family: \"Source Code Pro\", \"Menlo\", monospace;;\n",
              "    font-size: 13px;\n",
              "    color: #555;\n",
              "    margin-left: 4px;\n",
              "    line-height: 19px;\n",
              "  }\n",
              "</style>\n",
              "<div class=\"ansiout\"></div>"
            ]
          },
          "metadata": {
            "tags": []
          }
        }
      ]
    },
    {
      "cell_type": "markdown",
      "metadata": {
        "id": "0Wwg2kkPK_C0",
        "colab_type": "text"
      },
      "source": [
        "E otteniamo le predizioni usando il metodo *transform* del modello"
      ]
    },
    {
      "cell_type": "code",
      "metadata": {
        "id": "9x9QxtzVK_C1",
        "colab_type": "code",
        "colab": {},
        "outputId": "3f4397c8-608d-4f88-b918-82599fad6823"
      },
      "source": [
        "pred_df = model.transform(new_data_df)\n",
        "pred_df.columns"
      ],
      "execution_count": 0,
      "outputs": [
        {
          "output_type": "display_data",
          "data": {
            "text/html": [
              "<style scoped>\n",
              "  .ansiout {\n",
              "    display: block;\n",
              "    unicode-bidi: embed;\n",
              "    white-space: pre-wrap;\n",
              "    word-wrap: break-word;\n",
              "    word-break: break-all;\n",
              "    font-family: \"Source Code Pro\", \"Menlo\", monospace;;\n",
              "    font-size: 13px;\n",
              "    color: #555;\n",
              "    margin-left: 4px;\n",
              "    line-height: 19px;\n",
              "  }\n",
              "</style>\n",
              "<div class=\"ansiout\"><span class=\"ansired\">Out[</span><span class=\"ansired\">33</span><span class=\"ansired\">]: </span>\n",
              "[&apos;mean radius&apos;,\n",
              " &apos;mean texture&apos;,\n",
              " &apos;mean perimeter&apos;,\n",
              " &apos;mean area&apos;,\n",
              " &apos;mean smoothness&apos;,\n",
              " &apos;mean compactness&apos;,\n",
              " &apos;mean concavity&apos;,\n",
              " &apos;mean concave points&apos;,\n",
              " &apos;mean symmetry&apos;,\n",
              " &apos;mean fractal dimension&apos;,\n",
              " &apos;radius error&apos;,\n",
              " &apos;texture error&apos;,\n",
              " &apos;perimeter error&apos;,\n",
              " &apos;area error&apos;,\n",
              " &apos;smoothness error&apos;,\n",
              " &apos;compactness error&apos;,\n",
              " &apos;concavity error&apos;,\n",
              " &apos;concave points error&apos;,\n",
              " &apos;symmetry error&apos;,\n",
              " &apos;fractal dimension error&apos;,\n",
              " &apos;worst radius&apos;,\n",
              " &apos;worst texture&apos;,\n",
              " &apos;worst perimeter&apos;,\n",
              " &apos;worst area&apos;,\n",
              " &apos;worst smoothness&apos;,\n",
              " &apos;worst compactness&apos;,\n",
              " &apos;worst concavity&apos;,\n",
              " &apos;worst concave points&apos;,\n",
              " &apos;worst symmetry&apos;,\n",
              " &apos;worst fractal dimension&apos;,\n",
              " &apos;features&apos;,\n",
              " &apos;scaled_features&apos;,\n",
              " &apos;rawPrediction&apos;,\n",
              " &apos;probability&apos;,\n",
              " &apos;prediction&apos;]\n",
              "</div>"
            ]
          },
          "metadata": {
            "tags": []
          }
        }
      ]
    },
    {
      "cell_type": "markdown",
      "metadata": {
        "id": "yhkkFCXqK_C4",
        "colab_type": "text"
      },
      "source": [
        "Come vedi il DataFrame risultante contiene due nuove colonne:\n",
        "* **Prediction**: che contiene il label (0=benigno, 1=maligno)\n",
        "* **Probabily**: che contiene la probabilità di apparteneza alle due classi."
      ]
    },
    {
      "cell_type": "code",
      "metadata": {
        "id": "GFyCuYKfK_C5",
        "colab_type": "code",
        "colab": {},
        "outputId": "c8c7a89e-a6b1-4d6f-e1e0-6e79eca683ee"
      },
      "source": [
        "pred_df.select([\"probability\", \"prediction\"]).show(6, False)"
      ],
      "execution_count": 0,
      "outputs": [
        {
          "output_type": "display_data",
          "data": {
            "text/html": [
              "<style scoped>\n",
              "  .ansiout {\n",
              "    display: block;\n",
              "    unicode-bidi: embed;\n",
              "    white-space: pre-wrap;\n",
              "    word-wrap: break-word;\n",
              "    word-break: break-all;\n",
              "    font-family: \"Source Code Pro\", \"Menlo\", monospace;;\n",
              "    font-size: 13px;\n",
              "    color: #555;\n",
              "    margin-left: 4px;\n",
              "    line-height: 19px;\n",
              "  }\n",
              "</style>\n",
              "<div class=\"ansiout\">+------------------------------------------+----------+\n",
              "probability                               |prediction|\n",
              "+------------------------------------------+----------+\n",
              "[1.0,0.0]                                 |0.0       |\n",
              "[1.7432636933686846E-244,1.0]             |1.0       |\n",
              "[7.453405721620013E-205,1.0]              |1.0       |\n",
              "[1.0,0.0]                                 |0.0       |\n",
              "[0.9999999999999991,8.075319188159663E-16]|0.0       |\n",
              "[1.0,3.984631167625693E-159]              |0.0       |\n",
              "+------------------------------------------+----------+\n",
              "\n",
              "</div>"
            ]
          },
          "metadata": {
            "tags": []
          }
        }
      ]
    },
    {
      "cell_type": "markdown",
      "metadata": {
        "id": "x7kNCitaK_C7",
        "colab_type": "text"
      },
      "source": [
        "Due dei tumori sono stati etichettati come maligni, con delle probabilità associate molto alte, sarebbe il caso che la clinica effettuasse ulteriori esami."
      ]
    }
  ]
}